{
 "cells": [
  {
   "cell_type": "code",
   "execution_count": null,
   "metadata": {},
   "outputs": [],
   "source": [
    "import os\n",
    "import glob\n",
    "\n",
    "def find_word_files(folder_path):\n",
    "    word_files = []\n",
    "    for root, dirs, files in os.walk(folder_path):\n",
    "        for file in files:\n",
    "            if file.endswith(\".docx\"):\n",
    "                word_files.append(os.path.join(root, file))\n",
    "    return word_files\n",
    "\n",
    "# Replace 'your_folder_path' with the path of your main folder\n",
    "folder_path = \"E:\\Calibre Books\"\n",
    "\n",
    "word_files = find_word_files(folder_path)\n",
    "\n",
    "if word_files:\n",
    "    print(\"MS Word files found:\")\n",
    "    for word_file in word_files:\n",
    "        print(word_file)\n",
    "else:\n",
    "    print(\"No MS Word files found in the specified folder.\")\n"
   ]
  }
 ],
 "metadata": {
  "kernelspec": {
   "display_name": "base",
   "language": "python",
   "name": "python3"
  },
  "language_info": {
   "codemirror_mode": {
    "name": "ipython",
    "version": 3
   },
   "file_extension": ".py",
   "mimetype": "text/x-python",
   "name": "python",
   "nbconvert_exporter": "python",
   "pygments_lexer": "ipython3",
   "version": "3.9.13"
  }
 },
 "nbformat": 4,
 "nbformat_minor": 2
}
