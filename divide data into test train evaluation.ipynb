{
 "cells": [
  {
   "cell_type": "code",
   "execution_count": 3,
   "metadata": {},
   "outputs": [],
   "source": [
    "import os\n",
    "import random\n",
    "import shutil\n",
    "\n",
    "data_path = \"D:\\Image Dataset\"\n",
    "\n",
    "# path to destination folders\n",
    "train_folder = os.path.join(data_path, 'train')\n",
    "val_folder = os.path.join(data_path, 'eval')\n",
    "test_folder = os.path.join(data_path, 'test')\n",
    "\n",
    "# Create destination folders if they don't exist\n",
    "for folder_path in [train_folder, val_folder, test_folder]:\n",
    "    if not os.path.exists(folder_path):\n",
    "        os.makedirs(folder_path)\n",
    "\n",
    "# List all subfolders in the data_path\n",
    "subfolders = [f.name for f in os.scandir(data_path) if f.is_dir()]\n",
    "\n",
    "# Sets the random seed \n",
    "random.seed(42)\n",
    "\n",
    "# Iterate over subfolders and move images to destination folders\n",
    "for subfolder in subfolders:\n",
    "    subfolder_path = os.path.join(data_path, subfolder)\n",
    "    imgs_list = [filename for filename in os.listdir(subfolder_path) if os.path.splitext(filename)[-1] in image_extensions]\n",
    "\n",
    "    # Shuffle the list of image filenames\n",
    "    random.shuffle(imgs_list)\n",
    "\n",
    "    # determine the number of images for each set\n",
    "    train_size = int(len(imgs_list) * 0.7)\n",
    "    val_size = int(len(imgs_list) * 0.15)\n",
    "    test_size = int(len(imgs_list) * 0.15)\n",
    "\n",
    "    # Copy image files to destination folders\n",
    "    for i, f in enumerate(imgs_list):\n",
    "        if i < train_size:\n",
    "            dest_folder = os.path.join(train_folder, subfolder)\n",
    "        elif i < train_size + val_size:\n",
    "            dest_folder = os.path.join(val_folder, subfolder)\n",
    "        else:\n",
    "            dest_folder = os.path.join(test_folder, subfolder)\n",
    "        if not os.path.exists(dest_folder):\n",
    "            os.makedirs(dest_folder)\n",
    "        shutil.copy(os.path.join(subfolder_path, f), os.path.join(dest_folder, f))\n"
   ]
  }
 ],
 "metadata": {
  "kernelspec": {
   "display_name": "base",
   "language": "python",
   "name": "python3"
  },
  "language_info": {
   "codemirror_mode": {
    "name": "ipython",
    "version": 3
   },
   "file_extension": ".py",
   "mimetype": "text/x-python",
   "name": "python",
   "nbconvert_exporter": "python",
   "pygments_lexer": "ipython3",
   "version": "3.9.13"
  }
 },
 "nbformat": 4,
 "nbformat_minor": 2
}
