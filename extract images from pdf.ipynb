{
 "cells": [
  {
   "cell_type": "code",
   "execution_count": 7,
   "metadata": {},
   "outputs": [
    {
     "name": "stdout",
     "output_type": "stream",
     "text": [
      "Extracted image 'page_1_image_17.png' from page 1\n",
      "Extracted image 'page_1_image_18.png' from page 1\n",
      "Extracted image 'page_3_image_48.png' from page 3\n",
      "Extracted image 'page_4_image_50.png' from page 4\n",
      "Extracted image 'page_4_image_51.png' from page 4\n",
      "Extracted image 'page_5_image_54.png' from page 5\n",
      "Extracted image 'page_5_image_55.png' from page 5\n",
      "Extracted image 'page_6_image_58.png' from page 6\n",
      "Image extraction completed.\n"
     ]
    }
   ],
   "source": [
    "import fitz  # PyMuPDF library\n",
    "import os\n",
    "\n",
    "# Load PDF file\n",
    "pdf_path = 'F://Download Folder//iot2.pdf'  # Replace with your PDF file path\n",
    "pdf_document = fitz.open(pdf_path)\n",
    "\n",
    "# Create output directory\n",
    "output_directory = 'F://Extracted Images//'\n",
    "os.makedirs(output_directory, exist_ok=True)\n",
    "\n",
    "# Iterate through each page\n",
    "for page_num in range(pdf_document.page_count):\n",
    "    page = pdf_document[page_num]\n",
    "    image_list = page.get_images(full=True)\n",
    "    \n",
    "    # Iterate through images on the page\n",
    "    for img_info in image_list:\n",
    "        xref = img_info[0]\n",
    "        image_dict = pdf_document.extract_image(xref)\n",
    "        image_data = image_dict[\"image\"]\n",
    "        \n",
    "        # Tag the image using the page number and image index\n",
    "        img_index = img_info[0]\n",
    "        img_tag = f\"page_{page_num + 1}_image_{img_index}\"\n",
    "        \n",
    "        # Save the image to the output directory\n",
    "        img_filename = os.path.join(output_directory, f\"{img_tag}.png\")\n",
    "        with open(img_filename, \"wb\") as img_file:\n",
    "            img_file.write(image_data)\n",
    "            print(f\"Extracted image '{img_tag}.png' from page {page_num + 1}\")\n",
    "\n",
    "# Close the PDF document\n",
    "pdf_document.close()\n",
    "\n",
    "print(\"Image extraction completed.\")\n"
   ]
  }
 ],
 "metadata": {
  "kernelspec": {
   "display_name": "base",
   "language": "python",
   "name": "python3"
  },
  "language_info": {
   "codemirror_mode": {
    "name": "ipython",
    "version": 3
   },
   "file_extension": ".py",
   "mimetype": "text/x-python",
   "name": "python",
   "nbconvert_exporter": "python",
   "pygments_lexer": "ipython3",
   "version": "3.9.13"
  },
  "orig_nbformat": 4
 },
 "nbformat": 4,
 "nbformat_minor": 2
}
