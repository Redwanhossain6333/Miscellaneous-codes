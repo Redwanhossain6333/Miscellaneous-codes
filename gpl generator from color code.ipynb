{
 "cells": [
  {
   "cell_type": "code",
   "execution_count": 6,
   "metadata": {},
   "outputs": [
    {
     "name": "stdout",
     "output_type": "stream",
     "text": [
      "Custom palette .gpl file created.\n"
     ]
    }
   ],
   "source": [
    "# List of color codes in hexadecimal format\n",
    "color_palette = [\n",
    "    '#1f77b4', '#ff7f0e', '#2ca02c', '#d62728', '#9467bd', '#8c564b', '#e377c2',\n",
    "    '#7f7f7f', '#bcbd22', '#17becf', '#aec7e8', '#ffbb78', '#98df8a', '#ff9896',\n",
    "    '#c5b0d5', '#c49c94', '#f7b6d2', '#c7c7c7', '#dbdb8d', '#9edae5', '#8c6d31',\n",
    "    '#bd9e39', '#ad494a', '#7b4173', '#a55194', '#ce6dbd', '#de9ed6', '#3182bd',\n",
    "    '#6baed6', '#9ecae1', '#c6dbef', '#e6550d', '#fd8d3c', '#fdae6b', '#fdd0a2'\n",
    "]\n",
    "\n",
    "\n",
    "# Name for the palette\n",
    "palette_name = 'Custom Palette'\n",
    "\n",
    "# Create and open the .gpl file for writing\n",
    "with open('custom_palette.gpl', 'w') as gpl_file:\n",
    "    # Write the header information\n",
    "    gpl_file.write('GIMP Palette\\n')\n",
    "    gpl_file.write('Name: ' + palette_name + '\\n')\n",
    "    gpl_file.write('#\\n')\n",
    "\n",
    "    # Write color entries\n",
    "    for color_code in color_codes:\n",
    "        # Convert hex code to RGB values\n",
    "        r = int(color_code[1:3], 16)\n",
    "        g = int(color_code[3:5], 16)\n",
    "        b = int(color_code[5:7], 16)\n",
    "\n",
    "        # Write RGB values and color name\n",
    "        gpl_file.write(f'{r} {g} {b} {color_code}\\n')\n",
    "\n",
    "print('Custom palette .gpl file created.')\n"
   ]
  }
 ],
 "metadata": {
  "kernelspec": {
   "display_name": "base",
   "language": "python",
   "name": "python3"
  },
  "language_info": {
   "codemirror_mode": {
    "name": "ipython",
    "version": 3
   },
   "file_extension": ".py",
   "mimetype": "text/x-python",
   "name": "python",
   "nbconvert_exporter": "python",
   "pygments_lexer": "ipython3",
   "version": "3.9.13"
  },
  "orig_nbformat": 4
 },
 "nbformat": 4,
 "nbformat_minor": 2
}
