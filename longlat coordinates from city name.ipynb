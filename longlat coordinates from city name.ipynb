{
 "cells": [
  {
   "cell_type": "code",
   "execution_count": 1,
   "metadata": {},
   "outputs": [
    {
     "name": "stdout",
     "output_type": "stream",
     "text": [
      "Collecting geopy\n",
      "  Downloading geopy-2.4.0-py3-none-any.whl (125 kB)\n",
      "     -------------------------------------- 125.4/125.4 kB 1.2 MB/s eta 0:00:00\n",
      "Collecting geographiclib<3,>=1.52\n",
      "  Downloading geographiclib-2.0-py3-none-any.whl (40 kB)\n",
      "     ---------------------------------------- 40.3/40.3 kB ? eta 0:00:00\n",
      "Installing collected packages: geographiclib, geopy\n",
      "Successfully installed geographiclib-2.0 geopy-2.4.0\n",
      "Note: you may need to restart the kernel to use updated packages.\n"
     ]
    },
    {
     "name": "stderr",
     "output_type": "stream",
     "text": [
      "\n",
      "[notice] A new release of pip available: 22.3.1 -> 23.2.1\n",
      "[notice] To update, run: python.exe -m pip install --upgrade pip\n"
     ]
    }
   ],
   "source": [
    "%pip install geopy"
   ]
  },
  {
   "cell_type": "code",
   "execution_count": 2,
   "metadata": {},
   "outputs": [
    {
     "name": "stdout",
     "output_type": "stream",
     "text": [
      "Coordinates have been saved to city_coordinates.csv\n"
     ]
    }
   ],
   "source": [
    "from geopy.geocoders import Nominatim\n",
    "import csv\n",
    "\n",
    "# List of cities\n",
    "cities = [\n",
    "    \"Tokyo\", \"Delhi\", \"Shanghai\", \"Dhaka\", \"Sao Paulo\", \"Mexico City\", \"Cairo\", \"Beijing\", \"Mumbai\", \"Osaka\",\n",
    "    \"Chongqing\", \"Karachi\", \"Kinshasa\", \"Lagos\", \"Istanbul\", \"Buenos Aires\", \"Kolkata\", \"Manila\", \"Guangzhou\",\n",
    "    \"Tianjin\", \"Lahore\", \"Rio de Janeiro\", \"Bangalore\", \"Shenzhen\", \"Moscow\", \"Chennai\", \"Bogota\", \"Jakarta\",\n",
    "    \"Paris\", \"Lima\", \"Bangkok\", \"Hyderabad\", \"Seoul\", \"Nanjing\", \"Chengdu\", \"London\", \"Nagoya\", \"Tehran\",\n",
    "    \"Ho Chi Minh City\", \"Luanda\", \"Xi-an Shaanxi\", \"Wuhan\", \"Ahmedabad\", \"Kuala Lumpur\", \"Hangzhou\", \"Suzhou\",\n",
    "    \"Surat\", \"New York City\", \"Dar es Salaam\", \"Baghdad\", \"Hong Kong\", \"Riyadh\", \"Shenyang\", \"Foshan\", \"Dongguan\",\n",
    "    \"Pune\", \"Santiago\", \"Haerbin\", \"Madrid\", \"Toronto\", \"Khartoum\", \"Belo Horizonte\", \"Johannesburg\", \"Singapore\",\n",
    "    \"Dalian\", \"Qingdao\", \"Zhengzhou\", \"Ji-nan Shandong\", \"Barcelona\", \"Abidjan\", \"Yangon\", \"Alexandria\",\n",
    "    \"Saint Petersburg\", \"Fukuoka\", \"Addis Ababa\", \"Guadalajara\", \"Ankara\", \"Chittagong\", \"Nairobi\", \"Hanoi\",\n",
    "    \"Melbourne\", \"Sydney\", \"Monterrey\", \"Changsha\", \"Cape Town\", \"Brasilia\", \"Urumqi\", \"Jiddah\", \"Kunming\",\n",
    "    \"Changchun\", \"Hefei\", \"Kabul\", \"Shantou\", \"Ningbo\", \"Yaounde\", \"New Taipei\", \"Tel Aviv\", \"Shijiazhuang\",\n",
    "    \"Kano\", \"Rome\", \"Montreal\", \"Recife\", \"Porto Alegre\", \"Jaipur\", \"Fortaleza\", \"Nanning\", \"Taiyuan Shanxi\",\n",
    "    \"Ekurhuleni\", \"Medellin\", \"Kozhikode\", \"Douala\", \"Malappuram\", \"Changzhou\", \"Salvador\", \"Lucknow\", \"Xiamen\",\n",
    "    \"Fuzhou Fujian\", \"Nanchang\", \"Wenzhou\", \"Casablanca\", \"Ibadan\", \"Antananarivo\", \"Kampala\", \"Abuja\",\n",
    "    \"Tangshan Hebei\", \"Curitiba\", \"Los Angeles\", \"Kumasi\", \"Bekasi\", \"Faisalabad\", \"Guiyang\", \"Berlin\",\n",
    "    \"Santo Domingo\", \"Asuncion\", \"Thrissur\", \"Port Harcourt\", \"Busan\", \"Wuxi\", \"Dakar\", \"Campinas\", \"Kochi\",\n",
    "    \"Mashhad\", \"Puebla\", \"Indore\", \"Kuwait City\", \"Lanzhou\", \"Sanaa\", \"Kanpur\", \"Durban\", \"Ouagadougou\",\n",
    "    \"Lusaka\", \"Pyongyang\", \"Milan\", \"Athens\", \"Guayaquil\", \"Guatemala City\", \"Izmir\", \"Nagpur\", \"Surabaya\",\n",
    "    \"Depok\", \"Kiev\", \"Zhongshan\", \"Coimbatore\", \"Dubai\", \"Handan\", \"Lisbon\", \"Port-au-Prince\", \"Huaian\", \"Caracas\",\n",
    "    \"Shizuoka\", \"Bamako\", \"Weifang\", \"Algiers\", \"Mbuji-Mayi\", \"Thiruvananthapuram\", \"Cali\", \"Incheon\", \"Goiania\",\n",
    "    \"Pretoria\", \"Lubumbashi\", \"Shaoxing\", \"Manchester\", \"Zibo\", \"Yantai\", \"Huizhou\", \"Taipei\", \"Bandung\",\n",
    "    \"Sapporo\", \"Birmingham\", \"Accra\", \"Vancouver\", \"Brazzaville\", \"Toluca de Lerdo\", \"Mogadishu\", \"Chicago\",\n",
    "    \"Tashkent\", \"Luoyang\", \"Damascus\", \"Patna\", \"Bhopal\"\n",
    "]\n",
    "\n",
    "# Initialize the geocoder\n",
    "geolocator = Nominatim(user_agent=\"city_coordinates\")\n",
    "\n",
    "# Create a CSV file to store the coordinates\n",
    "with open(\"city_coordinates.csv\", \"w\", newline=\"\") as csvfile:\n",
    "    fieldnames = [\"City\", \"Longitude\", \"Latitude\"]\n",
    "    writer = csv.DictWriter(csvfile, fieldnames=fieldnames)\n",
    "    writer.writeheader()\n",
    "\n",
    "    # Loop through the list of cities and get coordinates\n",
    "    for city in cities:\n",
    "        location = geolocator.geocode(city)\n",
    "        if location:\n",
    "            writer.writerow({\"City\": city, \"Longitude\": location.longitude, \"Latitude\": location.latitude})\n",
    "\n",
    "print(\"Coordinates have been saved to city_coordinates.csv\")\n"
   ]
  },
  {
   "cell_type": "code",
   "execution_count": 3,
   "metadata": {},
   "outputs": [
    {
     "name": "stdout",
     "output_type": "stream",
     "text": [
      "Coordinates have been saved to city_coordinates.csv\n"
     ]
    }
   ],
   "source": [
    "from geopy.geocoders import Nominatim\n",
    "import csv\n",
    "\n",
    "# Initialize the geocoder\n",
    "geolocator = Nominatim(user_agent=\"city_coordinates\")\n",
    "\n",
    "# Create a CSV file to store the coordinates\n",
    "with open(\"city_coordinates.csv\", \"w\", newline=\"\") as csvfile:\n",
    "    fieldnames = [\"City\", \"Longitude\", \"Latitude\"]\n",
    "    writer = csv.DictWriter(csvfile, fieldnames=fieldnames)\n",
    "    writer.writeheader()\n",
    "\n",
    "    # Read the list of cities from the input CSV file\n",
    "    with open(\"F:\\Download Folder\\world-city-listing-table - Copy.csv\", \"r\") as city_file:\n",
    "        city_reader = csv.reader(city_file)\n",
    "        next(city_reader)  # Skip the header row\n",
    "        for row in city_reader:\n",
    "            city = row[0].strip()  # Assuming the city names are in the first column\n",
    "            location = geolocator.geocode(city)\n",
    "            if location:\n",
    "                writer.writerow({\"City\": city, \"Longitude\": location.longitude, \"Latitude\": location.latitude})\n",
    "\n",
    "print(\"Coordinates have been saved to city_coordinates.csv\")\n"
   ]
  }
 ],
 "metadata": {
  "kernelspec": {
   "display_name": "base",
   "language": "python",
   "name": "python3"
  },
  "language_info": {
   "codemirror_mode": {
    "name": "ipython",
    "version": 3
   },
   "file_extension": ".py",
   "mimetype": "text/x-python",
   "name": "python",
   "nbconvert_exporter": "python",
   "pygments_lexer": "ipython3",
   "version": "3.9.13"
  },
  "orig_nbformat": 4
 },
 "nbformat": 4,
 "nbformat_minor": 2
}
