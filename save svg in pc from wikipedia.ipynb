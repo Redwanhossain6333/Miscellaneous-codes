{
 "cells": [
  {
   "cell_type": "code",
   "execution_count": 4,
   "metadata": {},
   "outputs": [
    {
     "name": "stdout",
     "output_type": "stream",
     "text": [
      "Current directory: f:\\Python all practice\n"
     ]
    }
   ],
   "source": [
    "import requests\n",
    "\n",
    "\n",
    "def write_text(data: str, path: str):\n",
    "    with open(path, 'w') as file:\n",
    "        file.write(data)\n",
    "\n",
    "\n",
    "url = 'https://upload.wikimedia.org/wikipedia/commons/7/75/NO_0301_Oslo.svg'\n",
    "\n",
    "svg = requests.get(url).text\n",
    "\n",
    "write_text(svg, './NO_0301_Oslo.svg')\n",
    "\n",
    "import os\n",
    "\n",
    "current_directory = os.getcwd()\n",
    "print(\"Current directory:\", current_directory)\n"
   ]
  }
 ],
 "metadata": {
  "kernelspec": {
   "display_name": "base",
   "language": "python",
   "name": "python3"
  },
  "language_info": {
   "codemirror_mode": {
    "name": "ipython",
    "version": 3
   },
   "file_extension": ".py",
   "mimetype": "text/x-python",
   "name": "python",
   "nbconvert_exporter": "python",
   "pygments_lexer": "ipython3",
   "version": "3.9.13"
  },
  "orig_nbformat": 4
 },
 "nbformat": 4,
 "nbformat_minor": 2
}
