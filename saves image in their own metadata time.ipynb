{
 "cells": [
  {
   "cell_type": "code",
   "execution_count": 7,
   "metadata": {},
   "outputs": [
    {
     "name": "stdout",
     "output_type": "stream",
     "text": [
      "Images renamed and saved successfully in the custom output folder!\n"
     ]
    }
   ],
   "source": [
    "import os\n",
    "import glob\n",
    "import shutil\n",
    "from PIL import Image\n",
    "from PIL.ExifTags import TAGS\n",
    "from datetime import datetime\n",
    "\n",
    "# Assuming your images are in the 'images' folder\n",
    "folder_path = 'F:\\Download Folder\\Image'\n",
    "\n",
    "# Get a list of all image files in the folder\n",
    "image_files = glob.glob(os.path.join(folder_path, '*.jpg')) + glob.glob(os.path.join(folder_path, '*.png'))\n",
    "\n",
    "# Function to get image creation time from EXIF data\n",
    "def get_image_creation_time(image_path):\n",
    "    try:\n",
    "        image = Image.open(image_path)\n",
    "        exif_data = image._getexif()\n",
    "        if exif_data:\n",
    "            for tag_id, value in exif_data.items():\n",
    "                tag_name = TAGS.get(tag_id, tag_id)\n",
    "                if tag_name == 'DateTimeOriginal':\n",
    "                    return value\n",
    "    except (AttributeError, KeyError, IndexError):\n",
    "        pass\n",
    "    return datetime.min  # Return a very early date if EXIF data is not available\n",
    "\n",
    "# Sort the image files based on their creation time (if available)\n",
    "image_files.sort(key=lambda x: get_image_creation_time(x) or datetime.min)\n",
    "\n",
    "# Custom output folder path\n",
    "output_folder = 'F:\\ee'\n",
    "# Create the custom output folder (if it doesn't exist)\n",
    "os.makedirs(output_folder, exist_ok=True)\n",
    "\n",
    "# Get the total number of images\n",
    "total_images = len(image_files)\n",
    "\n",
    "# Get the number of digits needed for the count (e.g., 5000 will need 4 digits, 50 will need 2 digits)\n",
    "num_digits = len(str(total_images))\n",
    "\n",
    "# Rename and copy the images to the custom output folder with leading zeros\n",
    "for i, image_path in enumerate(image_files):\n",
    "    new_filename = f'{i+1:0{num_digits}d}.jpg'  # e.g., 0001.jpg, 0002.jpg, ..., 5000.jpg\n",
    "    new_image_path = os.path.join(output_folder, new_filename)\n",
    "    shutil.copy2(image_path, new_image_path)\n",
    "\n",
    "print('Images renamed and saved successfully in the custom output folder!')"
   ]
  },
  {
   "cell_type": "code",
   "execution_count": 4,
   "metadata": {},
   "outputs": [
    {
     "name": "stdout",
     "output_type": "stream",
     "text": [
      "Images renamed and saved successfully in the custom output folder!\n"
     ]
    }
   ],
   "source": [
    "import os\n",
    "import glob\n",
    "import shutil\n",
    "from PIL import Image\n",
    "from PIL.ExifTags import TAGS\n",
    "from datetime import datetime\n",
    "\n",
    "# Assuming your images are in the 'images' folder\n",
    "folder_path = 'F:\\Download Folder\\Image'\n",
    "\n",
    "# Get a list of all image files in the folder\n",
    "image_files = glob.glob(os.path.join(folder_path, '*.jpg')) + glob.glob(os.path.join(folder_path, '*.png'))\n",
    "\n",
    "# Function to get image creation time from EXIF data\n",
    "def get_image_creation_time(image_path):\n",
    "    try:\n",
    "        image = Image.open(image_path)\n",
    "        exif_data = image._getexif()\n",
    "        if exif_data:\n",
    "            for tag_id, value in exif_data.items():\n",
    "                tag_name = TAGS.get(tag_id, tag_id)\n",
    "                if tag_name == 'DateTimeOriginal':\n",
    "                    return value\n",
    "    except (AttributeError, KeyError, IndexError):\n",
    "        pass\n",
    "    return datetime.min  # Return a very early date if EXIF data is not available\n",
    "\n",
    "# Sort the image files based on their creation time (if available) and reverse the order\n",
    "image_files = sorted(image_files, key=lambda x: get_image_creation_time(x) or datetime.min)[::-1]\n",
    "\n",
    "# Custom output folder path\n",
    "output_folder = 'F:\\eee'\n",
    "# Create the custom output folder (if it doesn't exist)\n",
    "os.makedirs(output_folder, exist_ok=True)\n",
    "\n",
    "# Determine the number of digits needed for numbering\n",
    "num_digits = len(str(len(image_files)))\n",
    "\n",
    "# Rename and copy the images to the custom output folder in the opposite order\n",
    "for i, image_path in enumerate(image_files):\n",
    "    new_filename = f'{i+1:0{num_digits}d}.jpg'  # Rename as 5000.jpg, 4999.jpg, ..., 0001.jpg\n",
    "    new_image_path = os.path.join(output_folder, new_filename)\n",
    "    shutil.copy2(image_path, new_image_path)\n",
    "\n",
    "print('Images renamed and saved successfully in the custom output folder!')\n",
    "\n"
   ]
  }
 ],
 "metadata": {
  "kernelspec": {
   "display_name": "base",
   "language": "python",
   "name": "python3"
  },
  "language_info": {
   "codemirror_mode": {
    "name": "ipython",
    "version": 3
   },
   "file_extension": ".py",
   "mimetype": "text/x-python",
   "name": "python",
   "nbconvert_exporter": "python",
   "pygments_lexer": "ipython3",
   "version": "3.9.13"
  },
  "orig_nbformat": 4
 },
 "nbformat": 4,
 "nbformat_minor": 2
}
